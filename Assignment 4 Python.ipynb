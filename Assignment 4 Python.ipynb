{
 "cells": [
  {
   "cell_type": "code",
   "execution_count": 5,
   "id": "14e997c6",
   "metadata": {},
   "outputs": [
    {
     "name": "stdout",
     "output_type": "stream",
     "text": [
      "Please select operation -\n",
      "1. Add\n",
      "2. Subtract\n",
      "3. Multiply\n",
      "4. Divide\n",
      "5. Power\n",
      "\n",
      "Select operations form 1, 2, 3, 4, 5 :5\n",
      "Enter first number: 2\n",
      "Enter second number: 3\n",
      "2 ** 3 = 8\n"
     ]
    }
   ],
   "source": [
    "# 1 Make a calculator using Python with addition,subtraction, multiplication, division and power.\n",
    "  \n",
    "# Function to add two numbers \n",
    "def add(num1, num2):\n",
    "    return num1 + num2\n",
    "  \n",
    "# Function to subtract two numbers \n",
    "def subtract(num1, num2):\n",
    "    return num1 - num2\n",
    "  \n",
    "# Function to multiply two numbers\n",
    "def multiply(num1, num2):\n",
    "    return num1 * num2\n",
    "\n",
    "  \n",
    "# Function to divide two numbers\n",
    "def divide(num1, num2):\n",
    "    return num1 / num2\n",
    "\n",
    "# Function of Power\n",
    "def power (num1, num2):\n",
    "    return num1**num2\n",
    "print(\"Please select operation -\\n\" \\\n",
    "        \"1. Add\\n\" \\\n",
    "        \"2. Subtract\\n\" \\\n",
    "        \"3. Multiply\\n\" \\\n",
    "        \"4. Divide\\n\"\n",
    "        \"5. Power\\n\")\n",
    "  \n",
    "  \n",
    "# Take input from the user \n",
    "select = int(input(\"Select operations form 1, 2, 3, 4, 5 :\"))\n",
    "  \n",
    "number_1 = int(input(\"Enter first number: \"))\n",
    "number_2 = int(input(\"Enter second number: \"))\n",
    "  \n",
    "if select == 1:\n",
    "    print(number_1, \"+\", number_2, \"=\",\n",
    "                    add(number_1, number_2))\n",
    "  \n",
    "elif select == 2:\n",
    "    print(number_1, \"-\", number_2, \"=\",\n",
    "                    subtract(number_1, number_2))\n",
    "  \n",
    "elif select == 3:\n",
    "    print(number_1, \"*\", number_2, \"=\",\n",
    "                    multiply(number_1, number_2))\n",
    "  \n",
    "elif select == 4:\n",
    "    print(number_1, \"/\", number_2, \"=\",\n",
    "                    divide(number_1, number_2))\n",
    "  \n",
    "elif select == 5:\n",
    "    print(number_1, \"**\", number_2, \"=\",\n",
    "                    power(number_1, number_2))    \n",
    "\n",
    "else:\n",
    "    print(\"Invalid input\")"
   ]
  },
  {
   "cell_type": "code",
   "execution_count": 7,
   "id": "9ff30273",
   "metadata": {},
   "outputs": [
    {
     "name": "stdout",
     "output_type": "stream",
     "text": [
      "11\n",
      "11\n",
      "43\n",
      "43\n",
      "54\n",
      "54\n",
      "73\n",
      "73\n"
     ]
    }
   ],
   "source": [
    "list = [11, 34.1, 98.2, 43, 45.1, 54, 73]\n",
    "\n",
    "for x in list:\n",
    "    if int(x) == x:\n",
    "    \tprint(x)\n",
    "        \n",
    "    #or\n",
    "    if isinstance(x, int):\n",
    "      \tprint(x)\n",
    "        "
   ]
  },
  {
   "cell_type": "code",
   "execution_count": 8,
   "id": "ed5ec825",
   "metadata": {},
   "outputs": [
    {
     "name": "stdout",
     "output_type": "stream",
     "text": [
      "{1: 'a', 2: 'b'}\n",
      "{1: 'a', 2: 'b', 3: 'c'}\n"
     ]
    }
   ],
   "source": [
    "# 3 Write a python script to add a key to a dictionary.\n",
    "a = {1:'a', 2:'b'}\n",
    "print(a)\n",
    "a.update({3:'c'})\n",
    "print(a)"
   ]
  },
  {
   "cell_type": "code",
   "execution_count": 9,
   "id": "b50a2a68",
   "metadata": {},
   "outputs": [
    {
     "name": "stdout",
     "output_type": "stream",
     "text": [
      "250\n"
     ]
    }
   ],
   "source": [
    "# 4 Write a python program to sum all the numeric items in a dictionry.\n",
    "my_dict = {'a':100,'b':80,'c':70}\n",
    "print(sum(my_dict.values()))"
   ]
  },
  {
   "cell_type": "code",
   "execution_count": 17,
   "id": "8068837e",
   "metadata": {},
   "outputs": [
    {
     "name": "stdout",
     "output_type": "stream",
     "text": [
      "[1, 2, 5]\n"
     ]
    }
   ],
   "source": [
    "# 5 Write a program to identify duplicate values from list.\n",
    "\n",
    "a = [1,2,3,2,1,5,6,5,5,5]\n",
    "\n",
    "import collections\n",
    "print([item for item, count in collections.Counter(a).items() if count > 1])\n"
   ]
  },
  {
   "cell_type": "code",
   "execution_count": 20,
   "id": "1dec0076",
   "metadata": {},
   "outputs": [
    {
     "name": "stdout",
     "output_type": "stream",
     "text": [
      "Present,  value = 300\n",
      "Not present\n"
     ]
    }
   ],
   "source": [
    "# 6 Write a python script to check if a given key already exist in a dictionry.\n",
    "def checkKey(dict, key):\n",
    "      \n",
    "    if key in dict.keys():\n",
    "        print(\"Present, \", end =\" \")\n",
    "        print(\"value =\", dict[key])\n",
    "    else:\n",
    "        print(\"Not present\")\n",
    "  \n",
    "\n",
    "dict = {'a': 100, 'b':200, 'c':300}\n",
    "  \n",
    "key = 'c'\n",
    "checkKey(dict, key)\n",
    "  \n",
    "key = 'd'\n",
    "checkKey(dict, key)"
   ]
  },
  {
   "cell_type": "code",
   "execution_count": null,
   "id": "5f241bc4",
   "metadata": {},
   "outputs": [],
   "source": []
  }
 ],
 "metadata": {
  "kernelspec": {
   "display_name": "Python 3",
   "language": "python",
   "name": "python3"
  },
  "language_info": {
   "codemirror_mode": {
    "name": "ipython",
    "version": 3
   },
   "file_extension": ".py",
   "mimetype": "text/x-python",
   "name": "python",
   "nbconvert_exporter": "python",
   "pygments_lexer": "ipython3",
   "version": "3.8.8"
  }
 },
 "nbformat": 4,
 "nbformat_minor": 5
}
